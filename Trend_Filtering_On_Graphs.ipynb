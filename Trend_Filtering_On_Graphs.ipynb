{
 "cells": [
  {
   "cell_type": "code",
   "execution_count": 6,
   "metadata": {},
   "outputs": [],
   "source": [
    "import imageio\n",
    "\n",
    "import numpy as np\n",
    "import pandas as pd\n",
    "from skimage.io import imread\n",
    "import cv2\n",
    "from PIL import Image\n",
    "from sklearn import preprocessing\n",
    "import cvxopt \n",
    "import mosek\n",
    "import cvxpy as cp\n",
    "import scipy as scipy\n",
    "import matplotlib.pyplot as plt\n",
    "%matplotlib inline\n",
    "from pygsp import graphs\n"
   ]
  },
  {
   "cell_type": "code",
   "execution_count": 56,
   "metadata": {},
   "outputs": [],
   "source": [
    "class TFOG:\n",
    "    def __init__(self, k, signal, graph_size):\n",
    "        \n",
    "        self.k = k # order of delta\n",
    "        self.signal = signal # input signal\n",
    "        self.graph_size = graph_size # graph size(n*n)\n",
    "        self.size = signal.size # signal size\n",
    "        self.X = cp.Variable(shape=(self.size,)) # Variale type for solver (CVXOPT)\n",
    "        \n",
    "        # creation of graph\n",
    "        self.g = graphs.Grid2d(self.graph_size, self.graph_size) \n",
    "        xx, yy = np.meshgrid(np.arange(self.graph_size), np.arange(self.graph_size))\n",
    "        self.coords = np.array((xx.ravel(), yy.ravel())).T\n",
    "        self.g.set_coordinates(self.coords)\n",
    "\n",
    "        \n",
    "     \n",
    "    # subfunction count nb of 1 (edges) in matrix\n",
    "    def __count_one(self,x):\n",
    "        tmp = 0\n",
    "        for i in range(len(x)):\n",
    "            for j in range(len(x)):\n",
    "                if x[i][j] == 1:\n",
    "                    tmp +=1\n",
    "        return tmp\n",
    "    # incidence to delta function\n",
    "    def __inc_to_delta(self,inc):\n",
    "        n = len(inc) \n",
    "        k = 0\n",
    "        size = int(self.__count_one(inc)/2)\n",
    "        tmp = [np.zeros(n) for i in range(size)]\n",
    "        for i in range(n):\n",
    "            # inc matrix is symetric\n",
    "            for j in range(i,n):\n",
    "                if inc[i][j] == 1:\n",
    "                    tmp[k][i] = -1\n",
    "                    tmp[k][j] = 1\n",
    "                    k+=1\n",
    "\n",
    "        return tmp\n",
    "    \n",
    "           \n",
    "        \n",
    "    # graph to inc matrix\n",
    "    def inc_mat(self):\n",
    "        return self.g.W.toarray()\n",
    "    \n",
    "    # graph difference order function : Dk+1 = D1^T @ Dk if odd k and Dk+1 = D1 @ Dk if even k (D0 makes no sens)\n",
    "    def __GDO(self,delta, k):\n",
    "        if k == 1:\n",
    "            return delta\n",
    "        elif k%2 == 0:\n",
    "            return np.dot(np.transpose(delta), self.__GDO(delta, k-1))\n",
    "        elif k%2 == 1:\n",
    "            return np.dot(delta, self.__GDO(delta, k-1))\n",
    "    # delta1 function\n",
    "    def delta1(self):\n",
    "        return self.__inc_to_delta(self.inc_mat())\n",
    "        \n",
    "    # deltak function\n",
    "    def deltak(self):\n",
    "        \n",
    "        return np.array(self.__GDO(self.delta1(), self.k))\n",
    "        \n",
    "    \n",
    "\n",
    "    # check if a list of list already contains another list\n",
    "    def __in_list(x, L):\n",
    "        tmp2 = False\n",
    "        for y in L:\n",
    "            tmp1 = True\n",
    "            for i in range(len(x)):\n",
    "                #avoid repetition \n",
    "                tmp1 = (tmp1 and np.abs(x[i]) == np.abs(y[i])) \n",
    "            tmp2 = (tmp2 or tmp1)\n",
    "        return tmp2\n",
    "\n",
    "\n",
    "    # plot the graph signal, can display edges with difference, the diff matrix may have some small data (1e-7 for example) instead of 0, accu is here to eliminate them\n",
    "    def plot(self, show_border = True, accu = 1e1):\n",
    "        if show_border:\n",
    "            \n",
    "            diff = np.dot(self.deltak(),self.X.value)\n",
    "            \n",
    "            color=[]    \n",
    "            for i in range(len(diff)):\n",
    "\n",
    "                if np.abs(diff[i]) < accu:\n",
    "                    diff[i] = 0\n",
    "                    color.append((0,0,0,0.1))\n",
    "                else:\n",
    "                    \n",
    "                    color.append((1,0,0,1))\n",
    "            self.g.plot_signal(self.signal, edge_color = color)\n",
    "        else:    \n",
    "            self.g.plot_signal(self.signal)\n",
    "    \n",
    "    # solve the pb using CVXOPT\n",
    "    def solve(self, Verbose = False, vlambda = 50):\n",
    "        print(vlambda)\n",
    "        print(f'd = {self.deltak().shape} ')\n",
    "        X = cp.Variable(shape=(self.size,))\n",
    "        obj = cp.Minimize(0.5 * cp.norm(self.signal - X,2)**2 \n",
    "                  + vlambda * cp.norm(self.deltak()@X, 1) )\n",
    "        prob = cp.Problem(obj)\n",
    "        prob.solve(solver=cp.CVXOPT, verbose=Verbose)\n",
    "        self.X = X\n",
    "        \n",
    "    # estimate diff matrix\n",
    "    def diff(self):\n",
    "        return self.deltak()@self.X.value\n",
    "    \n",
    "    \n",
    "    # plot the noisy input, the output and the ouput with edge diff\n",
    "    def summary(self, accu =1e1, vlambda = 50):\n",
    "        fig, ax = plt.subplots(nrows=1, ncols=3, figsize=(20, 5))\n",
    "        self.solve(vlambda = vlambda)\n",
    "        self.g.plot_signal(self.signal, ax = ax[0])\n",
    "        \n",
    "        ax[0].set_title(\"Noisy input\")\n",
    "        self.g.plot_signal(self.X.value,ax = ax[1])\n",
    "        diff = np.dot(self.deltak(),self.X.value)\n",
    "        ax[1].set_title(f\"Ouput k ={self.k - 1}\" )\n",
    "        color=[]    \n",
    "        for i in range(len(diff)):\n",
    "\n",
    "            if np.abs(diff[i]) < accu:\n",
    "                diff[i] = 0\n",
    "                color.append((0,0,0,0.1))\n",
    "            else:\n",
    "                    \n",
    "                color.append((1,0,0,1))\n",
    "        self.g.plot_signal(self.X.value, edge_color = color, ax = ax[2])\n",
    "        ax[2].set_title(\"Difference edges colored Ouput\")\n",
    "        print(self.k)\n",
    "        \n",
    "        #self.g.plot_signal(self.X.value,ax = ax[1], limits = [min(self.X.value), max(self.X.value)])\n",
    "        \n",
    "        \n",
    "        \n",
    "    \n",
    "        plt.show()\n",
    "    # Return the value of the solution\n",
    "    def values(self):\n",
    "        return self.X.value\n",
    "    \n",
    "    # genrealized  inverse function (extend to rectangular matrix)\n",
    "    def __generalized_inverse(self, mat):\n",
    "        return np.linalg.inv(np.transpose(mat) @ mat) @ np.transpose(mat)\n",
    "    \n",
    "    # estimate lambda max\n",
    "    def lambda_max(self):\n",
    "   \n",
    "        lmda_max= 0.0\n",
    "   \n",
    "    \n",
    "       \n",
    "       \n",
    "        lmda_max= np.linalg.norm(np.linalg.pinv(self.deltak() @ np.transpose(self.deltak()))@ self.deltak()@ self.signal, np.inf)\n",
    "    \n",
    "    \n",
    "        return lmda_max\n",
    "    \n",
    "    def plot_3d(self):\n",
    "        fig =  plt.figure(figsize=(20,5))\n",
    "        ax3d = plt.axes(projection='3d')\n",
    "       \n",
    "        \n",
    "        ax3d.plot_trisurf(self.coords[:,0], self.coords[0:,1] ,self.X.value, cmap=plt.cm.Spectral)\n",
    "       \n",
    "        \n",
    "    \n",
    "        plt.show()\n",
    "        \n",
    "    def plot_3d_signal(self):\n",
    "        fig =  plt.figure(figsize=(20,5))\n",
    "        ax3d = plt.axes(projection='3d')\n",
    "        ax3d.plot_trisurf(self.coords[:,0], self.coords[0:,1] ,self.signal, cmap=plt.cm.Spectral)\n",
    "        plt.show()\n",
    "\n",
    "        \n",
    "    \n",
    "        \n",
    "        \n",
    "        \n",
    "        \n",
    "        \n",
    "        \n",
    "        \n",
    "    \n",
    "        \n",
    "    \n",
    "    \n",
    "    \n"
   ]
  },
  {
   "cell_type": "markdown",
   "metadata": {},
   "source": [
    "Let $ G = (V,E)$ be an graph, with vertices $V = \\{1,...,n\\}$ and undirected edges $E = \\{e_1,...e_n\\}$ and suppose that we observe $y = (y_1,...y_n) \\in \\mathbb{R}^n$ over the nodes. We define the $k$th order \\textif{graph trend filtering} estimate $\\hat{\\beta} = (\\hat{\\beta}_1,...,\\hat{\\beta}_n)$ by "
   ]
  },
  {
   "cell_type": "markdown",
   "metadata": {},
   "source": [
    " \n",
    " \n",
    "$$\\hat{\\beta}= \\underset{\\beta \\in \\mathbb{R}^n}{\\operatorname{ argmin}} \\frac{1}{2} ||y-\\beta||_2^2 + \\lambda||\\Delta^{(k+1)}\\beta||_1$$"
   ]
  },
  {
   "cell_type": "markdown",
   "metadata": {},
   "source": [
    "When $k = 0$, we define first order graph difference operator $\\Delta^{(1)}$ in such way it yields the graph equivalent of a penalty on local differences :"
   ]
  },
  {
   "cell_type": "markdown",
   "metadata": {},
   "source": [
    "$$||\\Delta^{(1)} \\beta||_1 = \\underset{(i,j) \\in E}{\\operatorname{ \\Sigma}} |\\beta_i - \\beta_j|$$"
   ]
  },
  {
   "cell_type": "markdown",
   "metadata": {},
   "source": [
    "Let $\\Delta^{(1)}_l \\in \\{-1,0,1\\}^{m*n}$ be the oriented incidence matrix of the graph $G$, containing one row for each edge in the graph. ex : if $e_l = (i,j)$, then $\\Delta^{(1)}$ has $l$th row"
   ]
  },
  {
   "cell_type": "markdown",
   "metadata": {},
   "source": [
    "$$ \\Delta^{(1)}_l = (0,...,\\underset{i}{\\operatorname{ \\underset{\\uparrow}{\\operatorname{ -1}}}},...,\\underset{j}{\\operatorname{ \\underset{\\uparrow}{\\operatorname{ 1}}}},...,0)$$"
   ]
  },
  {
   "cell_type": "markdown",
   "metadata": {},
   "source": [
    "For $k\\ge 1$ we use a recursion to define the higher order graph difference operators, in a manner\n",
    "similar to the univariate case. The recursion alternates in multiplying by the first difference operator $\\Delta^{(1)}$ and its transpose (taking into account that this matrix not square)"
   ]
  },
  {
   "cell_type": "markdown",
   "metadata": {},
   "source": [
    "$$\n",
    "\\Delta^{(k+1)} = \\left\\{\n",
    "    \\begin{array}{ll}\n",
    "        (\\Delta^{(1)})^T \\Delta^{(k)}   \\mbox{  for odd } k\\\\\n",
    "        \\Delta^{(1)} \\Delta^{(k)}   \\mbox{     for even } k\n",
    "    \\end{array}\n",
    "\\right.\n",
    "$$"
   ]
  },
  {
   "cell_type": "code",
   "execution_count": 123,
   "metadata": {},
   "outputs": [],
   "source": [
    "\n",
    "graph_size = 20\n",
    "x = np.linspace(-10, 10, graph_size)\n",
    "y = np.linspace(-10, 10, graph_size)\n",
    "w = np.linspace(-10,10, graph_size**2)\n",
    "xx, yy = np.meshgrid(x, y, sparse=True)\n",
    "z_orig = xx**2-yy**2\n",
    "\n",
    "z_bruit = z_orig + np.random.normal(size=graph_size, loc = 0, scale = 1)\n",
    "\n",
    "\n",
    "\n"
   ]
  },
  {
   "cell_type": "code",
   "execution_count": 124,
   "metadata": {},
   "outputs": [
    {
     "name": "stdout",
     "output_type": "stream",
     "text": [
      "Lambda max for k = 0 : 143.26653766575464\n",
      "Lambda max for k = 1 : 919.3397237568513\n",
      "Lambda max for k = 2 : 1476.302341905634\n",
      "Lambda max for k = 3 : 9437.454961429576\n",
      "Lambda max for k = 4 : 15834.361540517482\n"
     ]
    }
   ],
   "source": [
    "prob_k_0 = TFOG(1, z_bruit.flatten(), graph_size)\n",
    "prob_k_1 = TFOG(2, z_bruit.flatten(), graph_size)\n",
    "prob_k_2 = TFOG(3, z_bruit.flatten(), graph_size)\n",
    "prob_k_3 = TFOG(4, z_bruit.flatten(), graph_size)\n",
    "prob_k_4 = TFOG(5, z_bruit.flatten(), graph_size)\n",
    "print(f'Lambda max for k = 0 : {prob_k_0.lambda_max()}')\n",
    "print(f'Lambda max for k = 1 : {prob_k_1.lambda_max()}')\n",
    "print(f'Lambda max for k = 2 : {prob_k_2.lambda_max()}')\n",
    "print(f'Lambda max for k = 3 : {prob_k_3.lambda_max()}')\n",
    "print(f'Lambda max for k = 4 : {prob_k_4.lambda_max()}')\n",
    "\n",
    "\n"
   ]
  },
  {
   "cell_type": "code",
   "execution_count": 130,
   "metadata": {},
   "outputs": [
    {
     "name": "stdout",
     "output_type": "stream",
     "text": [
      "90\n",
      "d = (760, 400) \n"
     ]
    },
    {
     "data": {
      "application/vnd.jupyter.widget-view+json": {
       "model_id": "0238e0f692424a25bf6b9dfd8c657024",
       "version_major": 2,
       "version_minor": 0
      },
      "text/plain": [
       "Canvas(toolbar=Toolbar(toolitems=[('Home', 'Reset original view', 'home', 'home'), ('Back', 'Back to previous …"
      ]
     },
     "metadata": {},
     "output_type": "display_data"
    },
    {
     "name": "stdout",
     "output_type": "stream",
     "text": [
      "90\n",
      "d = (760, 400) \n",
      "1\n"
     ]
    },
    {
     "data": {
      "application/vnd.jupyter.widget-view+json": {
       "model_id": "6b7627ee417a4101aad50d0eb505835a",
       "version_major": 2,
       "version_minor": 0
      },
      "text/plain": [
       "Canvas(toolbar=Toolbar(toolitems=[('Home', 'Reset original view', 'home', 'home'), ('Back', 'Back to previous …"
      ]
     },
     "metadata": {},
     "output_type": "display_data"
    },
    {
     "data": {
      "application/vnd.jupyter.widget-view+json": {
       "model_id": "b71e252a51eb4ac68baa7115573ae9a8",
       "version_major": 2,
       "version_minor": 0
      },
      "text/plain": [
       "Canvas(toolbar=Toolbar(toolitems=[('Home', 'Reset original view', 'home', 'home'), ('Back', 'Back to previous …"
      ]
     },
     "metadata": {},
     "output_type": "display_data"
    },
    {
     "name": "stdout",
     "output_type": "stream",
     "text": [
      "143.26653766575237\n"
     ]
    }
   ],
   "source": [
    "prob_k_0.solve(vlambda = 90 )\n",
    "prob_k_0.summary(vlambda = 90, accu = 1e-4)\n",
    "prob_k_0.plot_3d()\n",
    "prob_k_0.plot_3d_signal()\n",
    "prob_k_0.lambda_max()\n",
    "print(np.linalg.norm(prob_k_0.signal@np.linalg.pinv(prob_k_0.deltak()),ord=np.inf))"
   ]
  },
  {
   "cell_type": "code",
   "execution_count": 135,
   "metadata": {},
   "outputs": [
    {
     "name": "stdout",
     "output_type": "stream",
     "text": [
      "500\n",
      "d = (400, 400) \n"
     ]
    },
    {
     "data": {
      "application/vnd.jupyter.widget-view+json": {
       "model_id": "dea8c57c2a3546b9abe73678decfe6cc",
       "version_major": 2,
       "version_minor": 0
      },
      "text/plain": [
       "Canvas(toolbar=Toolbar(toolitems=[('Home', 'Reset original view', 'home', 'home'), ('Back', 'Back to previous …"
      ]
     },
     "metadata": {},
     "output_type": "display_data"
    },
    {
     "name": "stdout",
     "output_type": "stream",
     "text": [
      "500\n",
      "d = (400, 400) \n",
      "2\n"
     ]
    },
    {
     "data": {
      "application/vnd.jupyter.widget-view+json": {
       "model_id": "4a55545d570e45dd9df83b62149e2773",
       "version_major": 2,
       "version_minor": 0
      },
      "text/plain": [
       "Canvas(toolbar=Toolbar(toolitems=[('Home', 'Reset original view', 'home', 'home'), ('Back', 'Back to previous …"
      ]
     },
     "metadata": {},
     "output_type": "display_data"
    },
    {
     "data": {
      "application/vnd.jupyter.widget-view+json": {
       "model_id": "2a33ee7a19d24990937b9dbf90366814",
       "version_major": 2,
       "version_minor": 0
      },
      "text/plain": [
       "Canvas(toolbar=Toolbar(toolitems=[('Home', 'Reset original view', 'home', 'home'), ('Back', 'Back to previous …"
      ]
     },
     "metadata": {},
     "output_type": "display_data"
    },
    {
     "data": {
      "text/plain": [
       "919.3397237568513"
      ]
     },
     "execution_count": 135,
     "metadata": {},
     "output_type": "execute_result"
    }
   ],
   "source": [
    "\n",
    "prob_k_1.solve(vlambda = 500)\n",
    "prob_k_1.summary(vlambda = 500, accu = 1e-4)\n",
    "prob_k_1.plot_3d()\n",
    "prob_k_1.plot_3d_signal()\n",
    "prob_k_1.lambda_max()\n"
   ]
  },
  {
   "cell_type": "code",
   "execution_count": 136,
   "metadata": {},
   "outputs": [
    {
     "name": "stdout",
     "output_type": "stream",
     "text": [
      "1000\n",
      "d = (760, 400) \n"
     ]
    },
    {
     "data": {
      "application/vnd.jupyter.widget-view+json": {
       "model_id": "aa4db663c5a74aaa96a206b9bbef6e33",
       "version_major": 2,
       "version_minor": 0
      },
      "text/plain": [
       "Canvas(toolbar=Toolbar(toolitems=[('Home', 'Reset original view', 'home', 'home'), ('Back', 'Back to previous …"
      ]
     },
     "metadata": {},
     "output_type": "display_data"
    },
    {
     "name": "stdout",
     "output_type": "stream",
     "text": [
      "1000\n",
      "d = (760, 400) \n",
      "3\n"
     ]
    },
    {
     "data": {
      "application/vnd.jupyter.widget-view+json": {
       "model_id": "027425072d3c472e869767d4981a70dd",
       "version_major": 2,
       "version_minor": 0
      },
      "text/plain": [
       "Canvas(toolbar=Toolbar(toolitems=[('Home', 'Reset original view', 'home', 'home'), ('Back', 'Back to previous …"
      ]
     },
     "metadata": {},
     "output_type": "display_data"
    },
    {
     "data": {
      "application/vnd.jupyter.widget-view+json": {
       "model_id": "5a23dcef3d72434eb6c69978678a4767",
       "version_major": 2,
       "version_minor": 0
      },
      "text/plain": [
       "Canvas(toolbar=Toolbar(toolitems=[('Home', 'Reset original view', 'home', 'home'), ('Back', 'Back to previous …"
      ]
     },
     "metadata": {},
     "output_type": "display_data"
    },
    {
     "data": {
      "text/plain": [
       "1476.302341905634"
      ]
     },
     "execution_count": 136,
     "metadata": {},
     "output_type": "execute_result"
    }
   ],
   "source": [
    "\n",
    "prob_k_2.solve(vlambda = 1000)\n",
    "prob_k_2.summary(vlambda = 1000, accu = 1e-4)\n",
    "prob_k_2.plot_3d()\n",
    "prob_k_2.plot_3d_signal()\n",
    "prob_k_2.lambda_max()"
   ]
  },
  {
   "cell_type": "code",
   "execution_count": 140,
   "metadata": {},
   "outputs": [
    {
     "name": "stdout",
     "output_type": "stream",
     "text": [
      "2000\n",
      "d = (400, 400) \n"
     ]
    },
    {
     "data": {
      "application/vnd.jupyter.widget-view+json": {
       "model_id": "a4ce7a9b50fc4e488350be403f98320a",
       "version_major": 2,
       "version_minor": 0
      },
      "text/plain": [
       "Canvas(toolbar=Toolbar(toolitems=[('Home', 'Reset original view', 'home', 'home'), ('Back', 'Back to previous …"
      ]
     },
     "metadata": {},
     "output_type": "display_data"
    },
    {
     "name": "stdout",
     "output_type": "stream",
     "text": [
      "2000\n",
      "d = (400, 400) \n",
      "4\n"
     ]
    },
    {
     "data": {
      "application/vnd.jupyter.widget-view+json": {
       "model_id": "9ac5e061d25d4658b6b6f1d0fd5c87c4",
       "version_major": 2,
       "version_minor": 0
      },
      "text/plain": [
       "Canvas(toolbar=Toolbar(toolitems=[('Home', 'Reset original view', 'home', 'home'), ('Back', 'Back to previous …"
      ]
     },
     "metadata": {},
     "output_type": "display_data"
    },
    {
     "data": {
      "application/vnd.jupyter.widget-view+json": {
       "model_id": "049c1e1a1094456a97da2f1168104859",
       "version_major": 2,
       "version_minor": 0
      },
      "text/plain": [
       "Canvas(toolbar=Toolbar(toolitems=[('Home', 'Reset original view', 'home', 'home'), ('Back', 'Back to previous …"
      ]
     },
     "metadata": {},
     "output_type": "display_data"
    }
   ],
   "source": [
    "\n",
    "prob_k_3.solve(vlambda =2000)\n",
    "prob_k_3.summary(vlambda = 2000, accu = 1e-4)\n",
    "prob_k_3.plot_3d()\n",
    "prob_k_3.plot_3d_signal()"
   ]
  },
  {
   "cell_type": "code",
   "execution_count": 148,
   "metadata": {},
   "outputs": [
    {
     "name": "stdout",
     "output_type": "stream",
     "text": [
      "150\n",
      "d = (760, 400) \n"
     ]
    },
    {
     "data": {
      "application/vnd.jupyter.widget-view+json": {
       "model_id": "c5296c79dae94c3690546941d4c31584",
       "version_major": 2,
       "version_minor": 0
      },
      "text/plain": [
       "Canvas(toolbar=Toolbar(toolitems=[('Home', 'Reset original view', 'home', 'home'), ('Back', 'Back to previous …"
      ]
     },
     "metadata": {},
     "output_type": "display_data"
    },
    {
     "name": "stdout",
     "output_type": "stream",
     "text": [
      "150\n",
      "d = (760, 400) \n",
      "5\n"
     ]
    },
    {
     "data": {
      "application/vnd.jupyter.widget-view+json": {
       "model_id": "8336d0a8ba48495aa08c2352a76fb768",
       "version_major": 2,
       "version_minor": 0
      },
      "text/plain": [
       "Canvas(toolbar=Toolbar(toolitems=[('Home', 'Reset original view', 'home', 'home'), ('Back', 'Back to previous …"
      ]
     },
     "metadata": {},
     "output_type": "display_data"
    },
    {
     "data": {
      "application/vnd.jupyter.widget-view+json": {
       "model_id": "ff381d072ec740c0907cb0352fbcff0c",
       "version_major": 2,
       "version_minor": 0
      },
      "text/plain": [
       "Canvas(toolbar=Toolbar(toolitems=[('Home', 'Reset original view', 'home', 'home'), ('Back', 'Back to previous …"
      ]
     },
     "metadata": {},
     "output_type": "display_data"
    }
   ],
   "source": [
    "\n",
    "prob_k_4.solve(vlambda = 150)\n",
    "prob_k_4.summary(vlambda = 150, accu = 1e-4)\n",
    "prob_k_4.plot_3d()\n",
    "prob_k_4.plot_3d_signal()"
   ]
  },
  {
   "cell_type": "code",
   "execution_count": null,
   "metadata": {},
   "outputs": [],
   "source": []
  }
 ],
 "metadata": {
  "kernelspec": {
   "display_name": "Python 3",
   "language": "python",
   "name": "python3"
  },
  "language_info": {
   "codemirror_mode": {
    "name": "ipython",
    "version": 3
   },
   "file_extension": ".py",
   "mimetype": "text/x-python",
   "name": "python",
   "nbconvert_exporter": "python",
   "pygments_lexer": "ipython3",
   "version": "3.8.3"
  }
 },
 "nbformat": 4,
 "nbformat_minor": 4
}
