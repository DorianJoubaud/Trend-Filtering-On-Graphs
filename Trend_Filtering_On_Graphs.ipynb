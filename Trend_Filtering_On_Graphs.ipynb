{
 "cells": [
  {
   "cell_type": "code",
   "execution_count": 8,
   "metadata": {},
   "outputs": [],
   "source": [
    "import imageio\n",
    "import numpy as np\n",
    "import pandas as pd\n",
    "from skimage.io import imread\n",
    "import cv2\n",
    "from PIL import Image\n",
    "from sklearn import preprocessing\n",
    "import cvxopt \n",
    "import mosek\n",
    "import cvxpy as cp\n",
    "import scipy as scipy\n",
    "import matplotlib.pyplot as plt\n",
    "%matplotlib inline\n",
    "from pygsp import graphs\n"
   ]
  },
  {
   "cell_type": "code",
   "execution_count": 9,
   "metadata": {},
   "outputs": [],
   "source": [
    "class Graph:\n",
    "    def __init__(self,graph_size_n, graph_size_m):\n",
    "        self.n = graph_size_n\n",
    "        self.m = graph_size_m\n",
    "        self.coords = []\n",
    "    \n",
    "    \n",
    "    def grid_graph(self) -> graphs.Graph:\n",
    "        \"\"\"Return a 2D grid graph.\"\"\"\n",
    "        g = graphs.Grid2d(self.n, self.m)\n",
    "        xx, yy = np.meshgrid(np.arange(self.n), np.arange(self.m))\n",
    "        self.coords = np.array((xx.ravel(), yy.ravel())).T\n",
    "        g.set_coordinates(self.coords)\n",
    "        g.compute_laplacian(\"combinatorial\")\n",
    "        return g"
   ]
  },
  {
   "cell_type": "code",
   "execution_count": 10,
   "metadata": {},
   "outputs": [],
   "source": [
    "class TFOG:\n",
    "    def __init__(self, k, signal, graph, graph_size):\n",
    "        \n",
    "        self.k = k # order of delta\n",
    "        self.signal = signal # input signal\n",
    "        self.graph_size = graph_size # graph size(n*n)\n",
    "        self.size = signal.size # signal size\n",
    "        self.X = cp.Variable(shape=(self.size,)) # Variale type for solver (CVXOPT)\n",
    "        self.g = graph #graph\n",
    "\n",
    "        \n",
    "     \n",
    "    # subfunction count nb of 1 (edges) in matrix\n",
    "    def __count_one(self,x):\n",
    "        tmp = 0\n",
    "        for i in range(len(x)):\n",
    "            for j in range(len(x)):\n",
    "                if x[i][j] == 1:\n",
    "                    tmp +=1\n",
    "        return tmp\n",
    "    # incidence to delta function\n",
    "    def __inc_to_delta(self,inc):\n",
    "        n = len(inc) \n",
    "        k = 0\n",
    "       \n",
    "        size = int(self.__count_one(inc)/2)\n",
    "        tmp = [np.zeros(n) for i in range(size)]\n",
    "        for i in range(n):\n",
    "            # inc matrix is symetric\n",
    "            for j in range(i,n):\n",
    "                if inc[i][j] == 1:\n",
    "                    tmp[k][i] = -1\n",
    "                    tmp[k][j] = 1\n",
    "                    k+=1\n",
    "\n",
    "        return tmp\n",
    "    \n",
    "           \n",
    "        \n",
    "    # graph to inc matrix\n",
    "    def inc_mat(self):\n",
    "        return self.g.W.toarray()\n",
    "    \n",
    "    # graph difference order function : Dk+1 = D1^T @ Dk if odd k and Dk+1 = D1 @ Dk if even k (D0 makes no sens)\n",
    "    def __GDO(self,delta, k):\n",
    "        if k == 1:\n",
    "            return delta\n",
    "        elif k%2 == 0:\n",
    "            return np.dot(np.transpose(delta), self.__GDO(delta, k-1))\n",
    "        elif k%2 == 1:\n",
    "            return np.dot(delta, self.__GDO(delta, k-1))\n",
    "    # delta1 function\n",
    "    def delta1(self):\n",
    "        return self.__inc_to_delta(self.inc_mat())\n",
    "        \n",
    "    # deltak function\n",
    "    def deltak(self):\n",
    "        \n",
    "        return np.array(self.__GDO(self.delta1(), self.k))\n",
    "        \n",
    "    \n",
    "\n",
    "    # check if a list of list already contains another list\n",
    "    def __in_list(x, L):\n",
    "        tmp2 = False\n",
    "        for y in L:\n",
    "            tmp1 = True\n",
    "            for i in range(len(x)):\n",
    "                #avoid repetition \n",
    "                tmp1 = (tmp1 and np.abs(x[i]) == np.abs(y[i])) \n",
    "            tmp2 = (tmp2 or tmp1)\n",
    "        return tmp2\n",
    "\n",
    "\n",
    "    # plot the graph signal, can display edges with difference, the diff matrix may have some small data (1e-7 for example) instead of 0, accu is here to eliminate them\n",
    "    def plot(self, show_border = True, accu = 1e1):\n",
    "        if show_border:\n",
    "            \n",
    "            diff = np.dot(self.deltak(),self.X.value)\n",
    "            \n",
    "            color=[]    \n",
    "            for i in range(len(diff)):\n",
    "\n",
    "                if np.abs(diff[i]) < accu:\n",
    "                    diff[i] = 0\n",
    "                    color.append((0,0,0,0.1))\n",
    "                else:\n",
    "                    \n",
    "                    color.append((1,0,0,1))\n",
    "            self.g.plot_signal(self.signal, edge_color = color)\n",
    "        else:    \n",
    "            self.g.plot_signal(self.signal)\n",
    "    \n",
    "    # solve the pb using CVXOPT\n",
    "    def solve(self, Verbose = False, vlambda = 50):\n",
    "        print(vlambda)\n",
    "        print(f'd = {self.deltak().shape} ')\n",
    "        X = cp.Variable(shape=(self.size,))\n",
    "        obj = cp.Minimize(0.5 * cp.norm(self.signal - X,2)**2 \n",
    "                  + vlambda * cp.norm(self.deltak()@X, 1) )\n",
    "        prob = cp.Problem(obj)\n",
    "        prob.solve(solver=cp.CVXOPT, verbose=Verbose)\n",
    "        self.X = X\n",
    "        \n",
    "    # estimate diff matrix\n",
    "    def diff(self):\n",
    "        return self.deltak()@self.X.value\n",
    "    \n",
    "    \n",
    "    def sec_diff(self, L, inc):\n",
    "        n = len(L)\n",
    "        sec_alpha = []\n",
    "        for i in range(n):\n",
    "            tmp = 0\n",
    "            k = 0\n",
    "            for j in range(i, n):\n",
    "                if inc[i][j] == 1:\n",
    "                    k += 1\n",
    "                    tmp += L[j]\n",
    "            if k != 0:\n",
    "                tmp = tmp/k\n",
    "                sec_alpha.append(L[i] - tmp)\n",
    "            else:\n",
    "                sec_alpha.append(0)\n",
    "        return sec_alpha\n",
    "    \n",
    "    def diff_for_edges_color(self):\n",
    "        if self.k == 1:\n",
    "            return self.diff()\n",
    "        \n",
    "        elif self.k == 2:\n",
    "            inc_m = self.inc_mat()\n",
    "            mean_nodes = self.sec_diff(self.X.value, inc_m)\n",
    "            n = len(inc_m)\n",
    "            tmp = []\n",
    "            for i in range(n):\n",
    "                # inc matrix is symetric\n",
    "                for j in range(i,n):\n",
    "                    if inc_m[i][j] == 1:\n",
    "                        tmp.append(mean_nodes[i]*100)\n",
    "            return tmp\n",
    "        elif self.k%2 == 1:\n",
    "            return self.deltak()@self.X.value\n",
    "        \n",
    "        elif self.k%2 == 0:\n",
    "            inc_m = self.inc_mat()\n",
    "           # print(self.__GDO(self.delta1(),3)@self.X.value)\n",
    "            #print((self.__GDO(self.delta1(),3)@self.X.value).shape)\n",
    "            mean_alpha = self.sec_diff(self.deltak()@self.X.value, inc_m)\n",
    "            n = len(inc_m)\n",
    "            tmp = []\n",
    "            for i in range(n):\n",
    "                # inc matrix is symetric\n",
    "                for j in range(i,n):\n",
    "                    if inc_m[i][j] == 1:\n",
    "                        tmp.append(mean_alpha[i])\n",
    "            return tmp\n",
    "            \n",
    "                        \n",
    "                        \n",
    "        \n",
    "    \n",
    "    \n",
    "                \n",
    "            \n",
    "        \n",
    "    \n",
    "    # plot the noisy input, the output and the ouput with edge diff\n",
    "    def summary(self, accu =1e1, vlambda = 50):\n",
    "        fig, ax = plt.subplots(nrows=1, ncols=4, figsize=(20, 5))\n",
    "        self.solve(vlambda = vlambda)\n",
    "        self.g.plot_signal(self.signal, ax = ax[0])\n",
    "        \n",
    "        ax[0].set_title(\"Noisy input\")\n",
    "        self.g.plot_signal(self.X.value,ax = ax[1])\n",
    "        diff = np.dot(self.deltak(),self.X.value)\n",
    "        ax[1].set_title(f\"Ouput k ={self.k - 1}\" )\n",
    "        color=[]    \n",
    "        diff = self.diff_for_edges_color()\n",
    "       # print(diff)\n",
    "        for i in range(len(diff)):\n",
    "\n",
    "            if np.abs(diff[i]) < accu:\n",
    "                diff[i] = 0\n",
    "                color.append((0,0,0,0.1))\n",
    "            else:\n",
    "                    \n",
    "                color.append((1,0,0,1))\n",
    "        self.g.plot_signal(self.X.value, edge_color = color, ax = ax[2])\n",
    "        ax[2].set_title(\"Difference edges colored Ouput\")\n",
    "        \n",
    "        #self.g.plot_signal(self.X.value, edge_color = self.__edges_color_using_alpha(), ax = ax[3])\n",
    "        print(self.k)\n",
    "        \n",
    "        #self.g.plot_signal(self.X.value,ax = ax[1], limits = [min(self.X.value), max(self.X.value)])\n",
    "        \n",
    "        \n",
    "        \n",
    "    \n",
    "        plt.show()\n",
    "    # Return the value of the solution\n",
    "    def values(self):\n",
    "        return self.X.value\n",
    "    \n",
    "    # genrealized  inverse function (extend to rectangular matrix)\n",
    "    def __generalized_inverse(self, mat):\n",
    "        return np.linalg.inv(np.transpose(mat) @ mat) @ np.transpose(mat)\n",
    "    \n",
    "    # estimate lambda max\n",
    "    def lambda_max(self):\n",
    "   \n",
    "        lmda_max= 0.0\n",
    "   \n",
    "    \n",
    "       \n",
    "       \n",
    "        lmda_max= np.linalg.norm(np.linalg.pinv(self.deltak() @ np.transpose(self.deltak()))@ self.deltak()@ self.signal, np.inf)\n",
    "    \n",
    "    \n",
    "        return lmda_max\n",
    "    \n",
    "    def plot_3d(self):\n",
    "        fig =  plt.figure(figsize=(20,5))\n",
    "        ax3d = plt.axes(projection='3d')\n",
    "       \n",
    "        \n",
    "        ax3d.plot_trisurf(self.g.coords[:,0], self.g.coords[0:,1] ,self.X.value, cmap=plt.cm.Spectral)\n",
    "       \n",
    "        \n",
    "    \n",
    "        plt.show()\n",
    "        \n",
    "    def plot_3d_signal(self):\n",
    "        fig =  plt.figure(figsize=(20,5))\n",
    "        ax3d = plt.axes(projection='3d')\n",
    "        ax3d.plot_trisurf(self.g.coords[:,0], self.g.coords[0:,1] ,self.signal, cmap=plt.cm.Spectral)\n",
    "        plt.show()\n",
    "\n",
    "        \n",
    "    \n",
    "        \n",
    "        \n",
    "        \n",
    "        \n",
    "        \n",
    "        \n",
    "        \n",
    "    \n",
    "        \n",
    "    \n",
    "    \n",
    "    \n"
   ]
  },
  {
   "cell_type": "markdown",
   "metadata": {},
   "source": [
    "Let $ G = (V,E)$ be an graph, with vertices $V = \\{1,...,n\\}$ and undirected edges $E = \\{e_1,...e_n\\}$ and suppose that we observe $y = (y_1,...y_n) \\in \\mathbb{R}^n$ over the nodes. We define the $k$th order \\textif{graph trend filtering} estimate $\\hat{\\beta} = (\\hat{\\beta}_1,...,\\hat{\\beta}_n)$ by "
   ]
  },
  {
   "cell_type": "markdown",
   "metadata": {},
   "source": [
    " \n",
    " \n",
    "$$\\hat{\\beta}= \\underset{\\beta \\in \\mathbb{R}^n}{\\operatorname{ argmin}} \\frac{1}{2} ||y-\\beta||_2^2 + \\lambda||\\Delta^{(k+1)}\\beta||_1$$"
   ]
  },
  {
   "cell_type": "markdown",
   "metadata": {},
   "source": [
    "When $k = 0$, we define first order graph difference operator $\\Delta^{(1)}$ in such way it yields the graph equivalent of a penalty on local differences :"
   ]
  },
  {
   "cell_type": "markdown",
   "metadata": {},
   "source": [
    "$$||\\Delta^{(1)} \\beta||_1 = \\underset{(i,j) \\in E}{\\operatorname{ \\Sigma}} |\\beta_i - \\beta_j|$$"
   ]
  },
  {
   "cell_type": "markdown",
   "metadata": {},
   "source": [
    "Let $\\Delta^{(1)}_l \\in \\{-1,0,1\\}^{m*n}$ be the oriented incidence matrix of the graph $G$, containing one row for each edge in the graph. ex : if $e_l = (i,j)$, then $\\Delta^{(1)}$ has $l$th row"
   ]
  },
  {
   "cell_type": "markdown",
   "metadata": {},
   "source": [
    "$$ \\Delta^{(1)}_l = (0,...,\\underset{i}{\\operatorname{ \\underset{\\uparrow}{\\operatorname{ -1}}}},...,\\underset{j}{\\operatorname{ \\underset{\\uparrow}{\\operatorname{ 1}}}},...,0)$$"
   ]
  },
  {
   "cell_type": "markdown",
   "metadata": {},
   "source": [
    "For $k\\ge 1$ we use a recursion to define the higher order graph difference operators, in a manner\n",
    "similar to the univariate case. The recursion alternates in multiplying by the first difference operator $\\Delta^{(1)}$ and its transpose (taking into account that this matrix not square)"
   ]
  },
  {
   "cell_type": "markdown",
   "metadata": {},
   "source": [
    "$$\n",
    "\\Delta^{(k+1)} = \\left\\{\n",
    "    \\begin{array}{ll}\n",
    "        (\\Delta^{(1)})^T \\Delta^{(k)}   \\mbox{  for odd } k\\\\\n",
    "        \\Delta^{(1)} \\Delta^{(k)}   \\mbox{     for even } k\n",
    "    \\end{array}\n",
    "\\right.\n",
    "$$"
   ]
  },
  {
   "cell_type": "code",
   "execution_count": 4,
   "metadata": {},
   "outputs": [],
   "source": [
    "def sec_diff(L, inc):\n",
    "    n = len(L)\n",
    "    sec_alpha = []\n",
    "    for i in range(n):\n",
    "        tmp = 0\n",
    "        k = 0\n",
    "        for j in range(n):\n",
    "            if inc[i][j] == 1:\n",
    "                k += 1\n",
    "                tmp += L[j]\n",
    "        if k != 0:\n",
    "            tmp = tmp/k\n",
    "            sec_alpha.append(L[i] - tmp)\n",
    "        else:\n",
    "            sec_alpha.append(0)\n",
    "    return sec_alpha"
   ]
  },
  {
   "cell_type": "code",
   "execution_count": 11,
   "metadata": {},
   "outputs": [
    {
     "data": {
      "text/plain": [
       "(<Figure size 432x288 with 2 Axes>,\n",
       " <AxesSubplot:title={'center':'Grid2d(n_vertices=9, n_edges=12, N1=3, N2=3)'}>)"
      ]
     },
     "execution_count": 11,
     "metadata": {},
     "output_type": "execute_result"
    },
    {
     "data": {
      "image/png": "[encoded data removed]",
      "text/plain": [
       "<Figure size 432x288 with 2 Axes>"
      ]
     },
     "metadata": {
      "needs_background": "light"
     },
     "output_type": "display_data"
    }
   ],
   "source": [
    "\n",
    "graph_size = 3\n",
    "\n",
    "g = Graph(graph_size, graph_size).grid_graph()\n",
    "\n",
    "\n",
    "x = np.linspace(-10, 10, graph_size)\n",
    "y = np.linspace(-10, 10, graph_size)\n",
    "w = np.linspace(-10,10, graph_size**2)\n",
    "xx, yy = np.meshgrid(x, y, sparse=True)\n",
    "z_orig = np.abs(xx+yy)\n",
    "\n",
    "z_bruit = z_orig #+ np.random.normal(graph_size, 0,1)\n",
    "\n",
    "g.plot(z_bruit.flatten())\n",
    "\n",
    "\n",
    "\n",
    "\n"
   ]
  },
  {
   "cell_type": "code",
   "execution_count": 12,
   "metadata": {},
   "outputs": [
    {
     "name": "stdout",
     "output_type": "stream",
     "text": [
      "Lambda max for k = 0 : 5.555555555555564\n",
      "Lambda max for k = 1 : 5.555555555555557\n",
      "Lambda max for k = 2 : 2.777777777777784\n",
      "Lambda max for k = 3 : 2.716049382716097\n",
      "Lambda max for k = 4 : 1.3580246913581155\n",
      "Lambda max for k = 5 : 1.3271604938276944\n",
      "Lambda max for k = 10 : 0.1607510289279639\n"
     ]
    }
   ],
   "source": [
    "prob_k_0 = TFOG(1, z_bruit.flatten(),g ,graph_size)\n",
    "prob_k_1 = TFOG(2, z_bruit.flatten(),g ,graph_size)\n",
    "prob_k_2 = TFOG(3, z_bruit.flatten(),g ,graph_size)\n",
    "prob_k_3 = TFOG(4, z_bruit.flatten(),g ,graph_size)\n",
    "prob_k_4 = TFOG(5, z_bruit.flatten(),g ,graph_size)\n",
    "prob_k_5 = TFOG(6, z_bruit.flatten(),g ,graph_size)\n",
    "\n",
    "prob_k_10 = TFOG(11, z_bruit.flatten(),g ,graph_size)\n",
    "print(f'Lambda max for k = 0 : {prob_k_0.lambda_max()}')\n",
    "print(f'Lambda max for k = 1 : {prob_k_1.lambda_max()}')\n",
    "print(f'Lambda max for k = 2 : {prob_k_2.lambda_max()}')\n",
    "print(f'Lambda max for k = 3 : {prob_k_3.lambda_max()}')\n",
    "print(f'Lambda max for k = 4 : {prob_k_4.lambda_max()}')\n",
    "print(f'Lambda max for k = 5 : {prob_k_5.lambda_max()}')\n",
    "\n",
    "print(f'Lambda max for k = 10 : {prob_k_10.lambda_max()}')\n",
    "\n",
    "\n",
    "\n"
   ]
  },
  {
   "cell_type": "code",
   "execution_count": 13,
   "metadata": {},
   "outputs": [
    {
     "data": {
      "application/vnd.jupyter.widget-view+json": {
       "model_id": "a0a31760c60a405a946d36eb8779e7de",
       "version_major": 2,
       "version_minor": 0
      },
      "text/plain": [
       "Canvas(toolbar=Toolbar(toolitems=[('Home', 'Reset original view', 'home', 'home'), ('Back', 'Back to previous …"
      ]
     },
     "metadata": {},
     "output_type": "display_data"
    },
    {
     "name": "stdout",
     "output_type": "stream",
     "text": [
      "20\n",
      "d = (12, 9) \n",
      "1\n"
     ]
    },
    {
     "data": {
      "application/vnd.jupyter.widget-view+json": {
       "model_id": "8642379188934a5ab72c135889c63778",
       "version_major": 2,
       "version_minor": 0
      },
      "text/plain": [
       "Canvas(toolbar=Toolbar(toolitems=[('Home', 'Reset original view', 'home', 'home'), ('Back', 'Back to previous …"
      ]
     },
     "metadata": {},
     "output_type": "display_data"
    },
    {
     "data": {
      "application/vnd.jupyter.widget-view+json": {
       "model_id": "5e5a0d6cb4c549eca0ae928bdc54d511",
       "version_major": 2,
       "version_minor": 0
      },
      "text/plain": [
       "Canvas(toolbar=Toolbar(toolitems=[('Home', 'Reset original view', 'home', 'home'), ('Back', 'Back to previous …"
      ]
     },
     "metadata": {},
     "output_type": "display_data"
    },
    {
     "data": {
      "text/plain": [
       "5.555555555555564"
      ]
     },
     "execution_count": 13,
     "metadata": {},
     "output_type": "execute_result"
    },
    {
     "data": {
      "image/png": "[encoded data removed]",
      "text/plain": [
       "<Figure size 1440x360 with 7 Axes>"
      ]
     },
     "metadata": {
      "needs_background": "light"
     },
     "output_type": "display_data"
    },
    {
     "data": {
      "image/png": "[encoded data removed]",
      "text/plain": [
       "<Figure size 1440x360 with 1 Axes>"
      ]
     },
     "metadata": {
      "needs_background": "light"
     },
     "output_type": "display_data"
    },
    {
     "data": {
      "image/png": "[encoded data removed]",
      "text/plain": [
       "<Figure size 1440x360 with 1 Axes>"
      ]
     },
     "metadata": {
      "needs_background": "light"
     },
     "output_type": "display_data"
    }
   ],
   "source": [
    "%matplotlib widget\n",
    "prob_k_0.summary(vlambda = 20, accu = 1e-4)\n",
    "prob_k_0.plot_3d()\n",
    "prob_k_0.plot_3d_signal()\n",
    "prob_k_0.lambda_max()\n"
   ]
  },
  {
   "cell_type": "code",
   "execution_count": 329,
   "metadata": {},
   "outputs": [
    {
     "data": {
      "application/vnd.jupyter.widget-view+json": {
       "model_id": "8cf31b60ee7d44489a4aef416f64ba3a",
       "version_major": 2,
       "version_minor": 0
      },
      "text/plain": [
       "Canvas(toolbar=Toolbar(toolitems=[('Home', 'Reset original view', 'home', 'home'), ('Back', 'Back to previous …"
      ]
     },
     "metadata": {},
     "output_type": "display_data"
    },
    {
     "name": "stdout",
     "output_type": "stream",
     "text": [
      "150\n",
      "d = (400, 400) \n",
      "2\n"
     ]
    },
    {
     "data": {
      "application/vnd.jupyter.widget-view+json": {
       "model_id": "ec14bb3af5eb4726bc72a843e12ed070",
       "version_major": 2,
       "version_minor": 0
      },
      "text/plain": [
       "Canvas(toolbar=Toolbar(toolitems=[('Home', 'Reset original view', 'home', 'home'), ('Back', 'Back to previous …"
      ]
     },
     "metadata": {},
     "output_type": "display_data"
    },
    {
     "data": {
      "application/vnd.jupyter.widget-view+json": {
       "model_id": "530945b4c6a04a98b0b5d28f502ef9e7",
       "version_major": 2,
       "version_minor": 0
      },
      "text/plain": [
       "Canvas(toolbar=Toolbar(toolitems=[('Home', 'Reset original view', 'home', 'home'), ('Back', 'Back to previous …"
      ]
     },
     "metadata": {},
     "output_type": "display_data"
    }
   ],
   "source": [
    "%matplotlib widget\n",
    "prob_k_1.summary(vlambda = 150, accu = 1e-4)\n",
    "prob_k_1.plot_3d()\n",
    "prob_k_1.plot_3d_signal()\n",
    "#print(prob_k_1.diff())\n",
    "#print(prob_k_1.inc_mat())\n",
    "#print(sec_diff(prob_k_1.diff(), prob_k_1.inc_mat()))\n",
    "#print([4.000132438209919, 2.000066223315522, -4.000132346591924, 2.0000662233157547, -1.0003913430978173e-07, -4.000132438210638, -4.000132346592382, -4.000132438210638, 0])\n",
    "\n",
    "\n"
   ]
  },
  {
   "cell_type": "code",
   "execution_count": 330,
   "metadata": {},
   "outputs": [
    {
     "data": {
      "application/vnd.jupyter.widget-view+json": {
       "model_id": "4a1433c616674e0c81880b847a2da56b",
       "version_major": 2,
       "version_minor": 0
      },
      "text/plain": [
       "Canvas(toolbar=Toolbar(toolitems=[('Home', 'Reset original view', 'home', 'home'), ('Back', 'Back to previous …"
      ]
     },
     "metadata": {},
     "output_type": "display_data"
    },
    {
     "name": "stdout",
     "output_type": "stream",
     "text": [
      "400\n",
      "d = (760, 400) \n",
      "3\n"
     ]
    },
    {
     "data": {
      "application/vnd.jupyter.widget-view+json": {
       "model_id": "ef439ea003e24f16bee392821b3d1390",
       "version_major": 2,
       "version_minor": 0
      },
      "text/plain": [
       "Canvas(toolbar=Toolbar(toolitems=[('Home', 'Reset original view', 'home', 'home'), ('Back', 'Back to previous …"
      ]
     },
     "metadata": {},
     "output_type": "display_data"
    },
    {
     "data": {
      "application/vnd.jupyter.widget-view+json": {
       "model_id": "7d82043d7fd34c7c99dea2810ad24e48",
       "version_major": 2,
       "version_minor": 0
      },
      "text/plain": [
       "Canvas(toolbar=Toolbar(toolitems=[('Home', 'Reset original view', 'home', 'home'), ('Back', 'Back to previous …"
      ]
     },
     "metadata": {},
     "output_type": "display_data"
    },
    {
     "data": {
      "text/plain": [
       "558.0039477066135"
      ]
     },
     "execution_count": 330,
     "metadata": {},
     "output_type": "execute_result"
    }
   ],
   "source": [
    "prob_k_2.summary(vlambda = 400, accu = 1e-4)\n",
    "prob_k_2.plot_3d()\n",
    "prob_k_2.plot_3d_signal()\n",
    "prob_k_2.lambda_max()"
   ]
  },
  {
   "cell_type": "code",
   "execution_count": 340,
   "metadata": {},
   "outputs": [
    {
     "data": {
      "application/vnd.jupyter.widget-view+json": {
       "model_id": "73ce42fe89144b73a6bb2c2124a085c9",
       "version_major": 2,
       "version_minor": 0
      },
      "text/plain": [
       "Canvas(toolbar=Toolbar(toolitems=[('Home', 'Reset original view', 'home', 'home'), ('Back', 'Back to previous …"
      ]
     },
     "metadata": {},
     "output_type": "display_data"
    },
    {
     "name": "stdout",
     "output_type": "stream",
     "text": [
      "650\n",
      "d = (400, 400) \n",
      "4\n"
     ]
    },
    {
     "data": {
      "application/vnd.jupyter.widget-view+json": {
       "model_id": "235134658970431984e377285e3c4b69",
       "version_major": 2,
       "version_minor": 0
      },
      "text/plain": [
       "Canvas(toolbar=Toolbar(toolitems=[('Home', 'Reset original view', 'home', 'home'), ('Back', 'Back to previous …"
      ]
     },
     "metadata": {},
     "output_type": "display_data"
    },
    {
     "data": {
      "application/vnd.jupyter.widget-view+json": {
       "model_id": "081c51d4337645a98c4fea4eaa2afc6a",
       "version_major": 2,
       "version_minor": 0
      },
      "text/plain": [
       "Canvas(toolbar=Toolbar(toolitems=[('Home', 'Reset original view', 'home', 'home'), ('Back', 'Back to previous …"
      ]
     },
     "metadata": {},
     "output_type": "display_data"
    }
   ],
   "source": [
    "prob_k_3.summary(vlambda = 650, accu = 1e-1)\n",
    "prob_k_3.plot_3d()\n",
    "prob_k_3.plot_3d_signal()"
   ]
  },
  {
   "cell_type": "code",
   "execution_count": 343,
   "metadata": {},
   "outputs": [
    {
     "data": {
      "application/vnd.jupyter.widget-view+json": {
       "model_id": "731f0d4c6c0448d6bd2a562e67671ad7",
       "version_major": 2,
       "version_minor": 0
      },
      "text/plain": [
       "Canvas(toolbar=Toolbar(toolitems=[('Home', 'Reset original view', 'home', 'home'), ('Back', 'Back to previous …"
      ]
     },
     "metadata": {},
     "output_type": "display_data"
    },
    {
     "name": "stdout",
     "output_type": "stream",
     "text": [
      "300\n",
      "d = (760, 400) \n",
      "5\n"
     ]
    },
    {
     "data": {
      "application/vnd.jupyter.widget-view+json": {
       "model_id": "637768f2b3c04248a087f03d4fca3e3e",
       "version_major": 2,
       "version_minor": 0
      },
      "text/plain": [
       "Canvas(toolbar=Toolbar(toolitems=[('Home', 'Reset original view', 'home', 'home'), ('Back', 'Back to previous …"
      ]
     },
     "metadata": {},
     "output_type": "display_data"
    },
    {
     "data": {
      "application/vnd.jupyter.widget-view+json": {
       "model_id": "7a4c265834654d1eb9fbfe83557906b1",
       "version_major": 2,
       "version_minor": 0
      },
      "text/plain": [
       "Canvas(toolbar=Toolbar(toolitems=[('Home', 'Reset original view', 'home', 'home'), ('Back', 'Back to previous …"
      ]
     },
     "metadata": {},
     "output_type": "display_data"
    }
   ],
   "source": [
    "prob_k_4.summary(vlambda = 300, accu = 1e-4)\n",
    "prob_k_4.plot_3d()\n",
    "prob_k_4.plot_3d_signal()"
   ]
  },
  {
   "cell_type": "code",
   "execution_count": 355,
   "metadata": {},
   "outputs": [
    {
     "data": {
      "application/vnd.jupyter.widget-view+json": {
       "model_id": "33b817b3ec9144929d1a92c8ea308815",
       "version_major": 2,
       "version_minor": 0
      },
      "text/plain": [
       "Canvas(toolbar=Toolbar(toolitems=[('Home', 'Reset original view', 'home', 'home'), ('Back', 'Back to previous …"
      ]
     },
     "metadata": {},
     "output_type": "display_data"
    },
    {
     "name": "stdout",
     "output_type": "stream",
     "text": [
      "400\n",
      "d = (400, 400) \n",
      "6\n"
     ]
    },
    {
     "data": {
      "application/vnd.jupyter.widget-view+json": {
       "model_id": "1bd0adf34de945f2b925547aa2edf51e",
       "version_major": 2,
       "version_minor": 0
      },
      "text/plain": [
       "Canvas(toolbar=Toolbar(toolitems=[('Home', 'Reset original view', 'home', 'home'), ('Back', 'Back to previous …"
      ]
     },
     "metadata": {},
     "output_type": "display_data"
    },
    {
     "data": {
      "application/vnd.jupyter.widget-view+json": {
       "model_id": "c3f56ffda32941b8aa61020b5f11ca8e",
       "version_major": 2,
       "version_minor": 0
      },
      "text/plain": [
       "Canvas(toolbar=Toolbar(toolitems=[('Home', 'Reset original view', 'home', 'home'), ('Back', 'Back to previous …"
      ]
     },
     "metadata": {},
     "output_type": "display_data"
    }
   ],
   "source": [
    "prob_k_5.summary(vlambda = 400, accu = 1e-4)\n",
    "prob_k_5.plot_3d()\n",
    "prob_k_5.plot_3d_signal()"
   ]
  },
  {
   "cell_type": "code",
   "execution_count": 366,
   "metadata": {},
   "outputs": [
    {
     "data": {
      "application/vnd.jupyter.widget-view+json": {
       "model_id": "4c59051b323b4f5ab91ee082ccee08cb",
       "version_major": 2,
       "version_minor": 0
      },
      "text/plain": [
       "Canvas(toolbar=Toolbar(toolitems=[('Home', 'Reset original view', 'home', 'home'), ('Back', 'Back to previous …"
      ]
     },
     "metadata": {},
     "output_type": "display_data"
    },
    {
     "name": "stdout",
     "output_type": "stream",
     "text": [
      "1\n",
      "d = (84, 49) \n"
     ]
    },
    {
     "ename": "SolverError",
     "evalue": "Solver 'CVXOPT' failed. Try another solver, or solve with verbose=True for more information.",
     "output_type": "error",
     "traceback": [
      "\u001b[1;31m---------------------------------------------------------------------------\u001b[0m",
      "\u001b[1;31mSolverError\u001b[0m                               Traceback (most recent call last)",
      "\u001b[1;32m<ipython-input-366-a36c38f83737>\u001b[0m in \u001b[0;36m<module>\u001b[1;34m\u001b[0m\n\u001b[1;32m----> 1\u001b[1;33m \u001b[0mprob_k_10\u001b[0m\u001b[1;33m.\u001b[0m\u001b[0msummary\u001b[0m\u001b[1;33m(\u001b[0m\u001b[0mvlambda\u001b[0m \u001b[1;33m=\u001b[0m \u001b[1;36m1\u001b[0m\u001b[1;33m,\u001b[0m \u001b[0maccu\u001b[0m \u001b[1;33m=\u001b[0m \u001b[1;36m1e-4\u001b[0m\u001b[1;33m)\u001b[0m\u001b[1;33m\u001b[0m\u001b[1;33m\u001b[0m\u001b[0m\n\u001b[0m\u001b[0;32m      2\u001b[0m \u001b[0mprob_k_10\u001b[0m\u001b[1;33m.\u001b[0m\u001b[0mplot_3d\u001b[0m\u001b[1;33m(\u001b[0m\u001b[1;33m)\u001b[0m\u001b[1;33m\u001b[0m\u001b[1;33m\u001b[0m\u001b[0m\n\u001b[0;32m      3\u001b[0m \u001b[0mprob_k_10\u001b[0m\u001b[1;33m.\u001b[0m\u001b[0mplot_3d_signal\u001b[0m\u001b[1;33m(\u001b[0m\u001b[1;33m)\u001b[0m\u001b[1;33m\u001b[0m\u001b[1;33m\u001b[0m\u001b[0m\n",
      "\u001b[1;32m<ipython-input-307-eaaca0412d75>\u001b[0m in \u001b[0;36msummary\u001b[1;34m(self, accu, vlambda)\u001b[0m\n\u001b[0;32m    169\u001b[0m     \u001b[1;32mdef\u001b[0m \u001b[0msummary\u001b[0m\u001b[1;33m(\u001b[0m\u001b[0mself\u001b[0m\u001b[1;33m,\u001b[0m \u001b[0maccu\u001b[0m \u001b[1;33m=\u001b[0m\u001b[1;36m1e1\u001b[0m\u001b[1;33m,\u001b[0m \u001b[0mvlambda\u001b[0m \u001b[1;33m=\u001b[0m \u001b[1;36m50\u001b[0m\u001b[1;33m)\u001b[0m\u001b[1;33m:\u001b[0m\u001b[1;33m\u001b[0m\u001b[1;33m\u001b[0m\u001b[0m\n\u001b[0;32m    170\u001b[0m         \u001b[0mfig\u001b[0m\u001b[1;33m,\u001b[0m \u001b[0max\u001b[0m \u001b[1;33m=\u001b[0m \u001b[0mplt\u001b[0m\u001b[1;33m.\u001b[0m\u001b[0msubplots\u001b[0m\u001b[1;33m(\u001b[0m\u001b[0mnrows\u001b[0m\u001b[1;33m=\u001b[0m\u001b[1;36m1\u001b[0m\u001b[1;33m,\u001b[0m \u001b[0mncols\u001b[0m\u001b[1;33m=\u001b[0m\u001b[1;36m4\u001b[0m\u001b[1;33m,\u001b[0m \u001b[0mfigsize\u001b[0m\u001b[1;33m=\u001b[0m\u001b[1;33m(\u001b[0m\u001b[1;36m20\u001b[0m\u001b[1;33m,\u001b[0m \u001b[1;36m5\u001b[0m\u001b[1;33m)\u001b[0m\u001b[1;33m)\u001b[0m\u001b[1;33m\u001b[0m\u001b[1;33m\u001b[0m\u001b[0m\n\u001b[1;32m--> 171\u001b[1;33m         \u001b[0mself\u001b[0m\u001b[1;33m.\u001b[0m\u001b[0msolve\u001b[0m\u001b[1;33m(\u001b[0m\u001b[0mvlambda\u001b[0m \u001b[1;33m=\u001b[0m \u001b[0mvlambda\u001b[0m\u001b[1;33m)\u001b[0m\u001b[1;33m\u001b[0m\u001b[1;33m\u001b[0m\u001b[0m\n\u001b[0m\u001b[0;32m    172\u001b[0m         \u001b[0mself\u001b[0m\u001b[1;33m.\u001b[0m\u001b[0mg\u001b[0m\u001b[1;33m.\u001b[0m\u001b[0mplot_signal\u001b[0m\u001b[1;33m(\u001b[0m\u001b[0mself\u001b[0m\u001b[1;33m.\u001b[0m\u001b[0msignal\u001b[0m\u001b[1;33m,\u001b[0m \u001b[0max\u001b[0m \u001b[1;33m=\u001b[0m \u001b[0max\u001b[0m\u001b[1;33m[\u001b[0m\u001b[1;36m0\u001b[0m\u001b[1;33m]\u001b[0m\u001b[1;33m)\u001b[0m\u001b[1;33m\u001b[0m\u001b[1;33m\u001b[0m\u001b[0m\n\u001b[0;32m    173\u001b[0m \u001b[1;33m\u001b[0m\u001b[0m\n",
      "\u001b[1;32m<ipython-input-307-eaaca0412d75>\u001b[0m in \u001b[0;36msolve\u001b[1;34m(self, Verbose, vlambda)\u001b[0m\n\u001b[0;32m    100\u001b[0m                   + vlambda * cp.norm(self.deltak()@X, 1) )\n\u001b[0;32m    101\u001b[0m         \u001b[0mprob\u001b[0m \u001b[1;33m=\u001b[0m \u001b[0mcp\u001b[0m\u001b[1;33m.\u001b[0m\u001b[0mProblem\u001b[0m\u001b[1;33m(\u001b[0m\u001b[0mobj\u001b[0m\u001b[1;33m)\u001b[0m\u001b[1;33m\u001b[0m\u001b[1;33m\u001b[0m\u001b[0m\n\u001b[1;32m--> 102\u001b[1;33m         \u001b[0mprob\u001b[0m\u001b[1;33m.\u001b[0m\u001b[0msolve\u001b[0m\u001b[1;33m(\u001b[0m\u001b[0msolver\u001b[0m\u001b[1;33m=\u001b[0m\u001b[0mcp\u001b[0m\u001b[1;33m.\u001b[0m\u001b[0mCVXOPT\u001b[0m\u001b[1;33m,\u001b[0m \u001b[0mverbose\u001b[0m\u001b[1;33m=\u001b[0m\u001b[0mVerbose\u001b[0m\u001b[1;33m)\u001b[0m\u001b[1;33m\u001b[0m\u001b[1;33m\u001b[0m\u001b[0m\n\u001b[0m\u001b[0;32m    103\u001b[0m         \u001b[0mself\u001b[0m\u001b[1;33m.\u001b[0m\u001b[0mX\u001b[0m \u001b[1;33m=\u001b[0m \u001b[0mX\u001b[0m\u001b[1;33m\u001b[0m\u001b[1;33m\u001b[0m\u001b[0m\n\u001b[0;32m    104\u001b[0m \u001b[1;33m\u001b[0m\u001b[0m\n",
      "\u001b[1;32mc:\\python38\\lib\\site-packages\\cvxpy\\problems\\problem.py\u001b[0m in \u001b[0;36msolve\u001b[1;34m(self, *args, **kwargs)\u001b[0m\n\u001b[0;32m    460\u001b[0m         \u001b[1;32melse\u001b[0m\u001b[1;33m:\u001b[0m\u001b[1;33m\u001b[0m\u001b[1;33m\u001b[0m\u001b[0m\n\u001b[0;32m    461\u001b[0m             \u001b[0msolve_func\u001b[0m \u001b[1;33m=\u001b[0m \u001b[0mProblem\u001b[0m\u001b[1;33m.\u001b[0m\u001b[0m_solve\u001b[0m\u001b[1;33m\u001b[0m\u001b[1;33m\u001b[0m\u001b[0m\n\u001b[1;32m--> 462\u001b[1;33m         \u001b[1;32mreturn\u001b[0m \u001b[0msolve_func\u001b[0m\u001b[1;33m(\u001b[0m\u001b[0mself\u001b[0m\u001b[1;33m,\u001b[0m \u001b[1;33m*\u001b[0m\u001b[0margs\u001b[0m\u001b[1;33m,\u001b[0m \u001b[1;33m**\u001b[0m\u001b[0mkwargs\u001b[0m\u001b[1;33m)\u001b[0m\u001b[1;33m\u001b[0m\u001b[1;33m\u001b[0m\u001b[0m\n\u001b[0m\u001b[0;32m    463\u001b[0m \u001b[1;33m\u001b[0m\u001b[0m\n\u001b[0;32m    464\u001b[0m     \u001b[1;33m@\u001b[0m\u001b[0mclassmethod\u001b[0m\u001b[1;33m\u001b[0m\u001b[1;33m\u001b[0m\u001b[0m\n",
      "\u001b[1;32mc:\\python38\\lib\\site-packages\\cvxpy\\problems\\problem.py\u001b[0m in \u001b[0;36m_solve\u001b[1;34m(self, solver, warm_start, verbose, gp, qcp, requires_grad, enforce_dpp, **kwargs)\u001b[0m\n\u001b[0;32m    960\u001b[0m         \u001b[0mend\u001b[0m \u001b[1;33m=\u001b[0m \u001b[0mtime\u001b[0m\u001b[1;33m.\u001b[0m\u001b[0mtime\u001b[0m\u001b[1;33m(\u001b[0m\u001b[1;33m)\u001b[0m\u001b[1;33m\u001b[0m\u001b[1;33m\u001b[0m\u001b[0m\n\u001b[0;32m    961\u001b[0m         \u001b[0mself\u001b[0m\u001b[1;33m.\u001b[0m\u001b[0m_solve_time\u001b[0m \u001b[1;33m=\u001b[0m \u001b[0mend\u001b[0m \u001b[1;33m-\u001b[0m \u001b[0mstart\u001b[0m\u001b[1;33m\u001b[0m\u001b[1;33m\u001b[0m\u001b[0m\n\u001b[1;32m--> 962\u001b[1;33m         \u001b[0mself\u001b[0m\u001b[1;33m.\u001b[0m\u001b[0munpack_results\u001b[0m\u001b[1;33m(\u001b[0m\u001b[0msolution\u001b[0m\u001b[1;33m,\u001b[0m \u001b[0msolving_chain\u001b[0m\u001b[1;33m,\u001b[0m \u001b[0minverse_data\u001b[0m\u001b[1;33m)\u001b[0m\u001b[1;33m\u001b[0m\u001b[1;33m\u001b[0m\u001b[0m\n\u001b[0m\u001b[0;32m    963\u001b[0m         \u001b[1;32mif\u001b[0m \u001b[0mverbose\u001b[0m\u001b[1;33m:\u001b[0m\u001b[1;33m\u001b[0m\u001b[1;33m\u001b[0m\u001b[0m\n\u001b[0;32m    964\u001b[0m             \u001b[0mprint\u001b[0m\u001b[1;33m(\u001b[0m\u001b[0m_FOOTER\u001b[0m\u001b[1;33m)\u001b[0m\u001b[1;33m\u001b[0m\u001b[1;33m\u001b[0m\u001b[0m\n",
      "\u001b[1;32mc:\\python38\\lib\\site-packages\\cvxpy\\problems\\problem.py\u001b[0m in \u001b[0;36munpack_results\u001b[1;34m(self, solution, chain, inverse_data)\u001b[0m\n\u001b[0;32m   1282\u001b[0m             )\n\u001b[0;32m   1283\u001b[0m         \u001b[1;32mif\u001b[0m \u001b[0msolution\u001b[0m\u001b[1;33m.\u001b[0m\u001b[0mstatus\u001b[0m \u001b[1;32min\u001b[0m \u001b[0ms\u001b[0m\u001b[1;33m.\u001b[0m\u001b[0mERROR\u001b[0m\u001b[1;33m:\u001b[0m\u001b[1;33m\u001b[0m\u001b[1;33m\u001b[0m\u001b[0m\n\u001b[1;32m-> 1284\u001b[1;33m             raise error.SolverError(\n\u001b[0m\u001b[0;32m   1285\u001b[0m                     \u001b[1;34m\"Solver '%s' failed. \"\u001b[0m \u001b[1;33m%\u001b[0m \u001b[0mchain\u001b[0m\u001b[1;33m.\u001b[0m\u001b[0msolver\u001b[0m\u001b[1;33m.\u001b[0m\u001b[0mname\u001b[0m\u001b[1;33m(\u001b[0m\u001b[1;33m)\u001b[0m \u001b[1;33m+\u001b[0m\u001b[1;33m\u001b[0m\u001b[1;33m\u001b[0m\u001b[0m\n\u001b[0;32m   1286\u001b[0m                     \u001b[1;34m\"Try another solver, or solve with verbose=True for more \"\u001b[0m\u001b[1;33m\u001b[0m\u001b[1;33m\u001b[0m\u001b[0m\n",
      "\u001b[1;31mSolverError\u001b[0m: Solver 'CVXOPT' failed. Try another solver, or solve with verbose=True for more information."
     ]
    }
   ],
   "source": [
    "prob_k_10.summary(vlambda = 1, accu = 1e-4)\n",
    "prob_k_10.plot_3d()\n",
    "prob_k_10.plot_3d_signal()"
   ]
  },
  {
   "cell_type": "code",
   "execution_count": null,
   "metadata": {},
   "outputs": [],
   "source": []
  }
 ],
 "metadata": {
  "kernelspec": {
   "display_name": "Python 3",
   "language": "python",
   "name": "python3"
  },
  "language_info": {
   "codemirror_mode": {
    "name": "ipython",
    "version": 3
   },
   "file_extension": ".py",
   "mimetype": "text/x-python",
   "name": "python",
   "nbconvert_exporter": "python",
   "pygments_lexer": "ipython3",
   "version": "3.8.3"
  }
 },
 "nbformat": 4,
 "nbformat_minor": 4
}
